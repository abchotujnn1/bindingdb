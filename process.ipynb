{
 "cells": [
  {
   "cell_type": "code",
   "execution_count": 2,
   "metadata": {
    "collapsed": true
   },
   "outputs": [],
   "source": [
    "import os\n",
    "import csv\n",
    "import gzip\n",
    "import io\n",
    "import pprint\n",
    "import collections"
   ]
  },
  {
   "cell_type": "code",
   "execution_count": 10,
   "metadata": {
    "collapsed": false
   },
   "outputs": [
    {
     "name": "stdout",
     "output_type": "stream",
     "text": [
      "shasum: download/BindingDB_All_2015m3.tsv: \r\n"
     ]
    }
   ],
   "source": [
    "# Download all data from BindingDB\n",
    "!wget --directory-prefix download https://www.bindingdb.org/bind/downloads/BindingDB_All_2015m3.tsv.zip\n",
    "!unzip -d download download/BindingDB_All_2015m3.tsv.zip\n",
    "!rm download/BindingDB_All_2015m3.tsv.zip\n",
    "!mv download/BindingDB_All.tsv download/BindingDB_All_2015m3.tsv\n",
    "!gzip download/BindingDB_All_2015m3.tsv\n",
    "!shasum download/BindingDB_All_2015m3.tsv"
   ]
  },
  {
   "cell_type": "code",
   "execution_count": null,
   "metadata": {
    "collapsed": false
   },
   "outputs": [],
   "source": []
  },
  {
   "cell_type": "code",
   "execution_count": null,
   "metadata": {
    "collapsed": true
   },
   "outputs": [],
   "source": []
  },
  {
   "cell_type": "code",
   "execution_count": 6,
   "metadata": {
    "collapsed": false
   },
   "outputs": [],
   "source": [
    "target_fields = [\n",
    "    'BindingDB Target Chain  Sequence',\n",
    "    'PDB ID(s) of Target Chain',\n",
    "    'UniProt (SwissProt) Recommended Name of Target Chain',\n",
    "    'UniProt (SwissProt) Entry Name of Target Chain',\n",
    "    'UniProt (SwissProt) Primary ID of Target Chain',\n",
    "    'UniProt (SwissProt) Secondary ID(s) of Target Chain',\n",
    "    'UniProt (SwissProt) Alternative ID(s) of Target Chain',\n",
    "    'UniProt (TrEMBL) Submitted Name of Target Chain',\n",
    "    'UniProt (TrEMBL) Entry Name of Target Chain',\n",
    "    'UniProt (TrEMBL) Primary ID of Target Chain',\n",
    "    'UniProt (TrEMBL) Secondary ID(s) of Target Chain',\n",
    "    'UniProt (TrEMBL) Alternative ID(s) of Target Chain',\n",
    "]\n",
    "\n",
    "chains_key = 'Number of Protein Chains in Target (>1 implies a multichain complex)'\n",
    "\n",
    "def read_bindingdb(path):\n",
    "    \"\"\"\n",
    "    Field documentation: https://www.bindingdb.org/bind/chemsearch/marvin/BindingDB-TSV-Format.pdf\n",
    "    \"\"\"\n",
    "    read_file = gzip.open(path, 'rb')\n",
    "    text = io.TextIOWrapper(read_file)\n",
    "    reader = csv.reader(text, delimiter='\\t')\n",
    "    header = next(reader)\n",
    "    chains_index = header.index(chains_key)\n",
    "    taget0_index = chains_index + 1\n",
    "    ligand_fields = header[:chains_index + 1]\n",
    "    for row in reader:\n",
    "        row = [x if x else None for x in row]\n",
    "        ligand_values = row[:chains_index + 1]\n",
    "        rowdict = collections.OrderedDict(zip(ligand_fields, ligand_values))\n",
    "        for key in [chains_key]:\n",
    "            rowdict[key] = int(rowdict[key])\n",
    "        chains = list()\n",
    "        assert rowdict[chains_key] == len(row[taget0_index:]) / len(target_fields)\n",
    "        for i in range(rowdict[chains_key]):\n",
    "            i_0 = taget0_index + i * len(target_fields)\n",
    "            i_1 = taget0_index + (i + 1) * len(target_fields)\n",
    "            target_values = row[i_0:i_1]\n",
    "            chain = collections.OrderedDict(zip(target_fields, target_values))\n",
    "            chains.append(chain)\n",
    "        rowdict['chains'] = chains\n",
    "        yield rowdict\n",
    "    read_file.close()"
   ]
  },
  {
   "cell_type": "code",
   "execution_count": null,
   "metadata": {
    "collapsed": false
   },
   "outputs": [],
   "source": []
  },
  {
   "cell_type": "code",
   "execution_count": 11,
   "metadata": {
    "collapsed": false
   },
   "outputs": [
    {
     "name": "stdout",
     "output_type": "stream",
     "text": [
      "{frozenset(): 881,\n",
      " frozenset({'Ki (nM)'}): 245475,\n",
      " frozenset({'Kd (nM)', 'Ki (nM)'}): 4,\n",
      " frozenset({'Kd (nM)', 'EC50 (nM)'}): 8,\n",
      " frozenset({'IC50 (nM)', 'Ki (nM)'}): 985,\n",
      " frozenset({'EC50 (nM)'}): 74549,\n",
      " frozenset({'Kd (nM)'}): 55044,\n",
      " frozenset({'IC50 (nM)'}): 480070,\n",
      " frozenset({'Kd (nM)', 'IC50 (nM)'}): 76,\n",
      " frozenset({'EC50 (nM)', 'IC50 (nM)'}): 631,\n",
      " frozenset({'EC50 (nM)', 'Ki (nM)'}): 574,\n",
      " frozenset({'IC50 (nM)', 'EC50 (nM)', 'Ki (nM)'}): 23,\n",
      " frozenset({'IC50 (nM)', 'Kd (nM)', 'Ki (nM)'}): 1}\n"
     ]
    }
   ],
   "source": [
    "path = os.path.join('download', 'BindingDB_All_2015m3.tsv.gz')\n",
    "bindingdb_generator = read_bindingdb(path)\n",
    "\n",
    "measure_keys = ['Ki (nM)', 'IC50 (nM)', 'Kd (nM)', 'EC50 (nM)'] #, 'kon (M-1-s-1)', 'koff (s-1)']\n",
    "\n",
    "measures = list()\n",
    "for i, row in enumerate(bindingdb_generator):\n",
    "    #if i > 10000:\n",
    "    #    break\n",
    "    if len(row['chains']) != 1:\n",
    "        continue\n",
    "    chain, = row['chains']\n",
    "    if not chain['UniProt (SwissProt) Primary ID of Target Chain']:\n",
    "        continue\n",
    "    measure_set = frozenset(key for key in measure_keys if row[key] is not None)\n",
    "    measures.append(measure_set)\n",
    "\n",
    "pprint.pprint(collections.Counter(measures))"
   ]
  },
  {
   "cell_type": "code",
   "execution_count": null,
   "metadata": {
    "collapsed": false
   },
   "outputs": [],
   "source": []
  },
  {
   "cell_type": "code",
   "execution_count": 16,
   "metadata": {
    "collapsed": false
   },
   "outputs": [
    {
     "data": {
      "text/plain": [
       "Counter({1: 1073428, 2: 35637, 3: 5398, 4: 527, 6: 343, 5: 302, 12: 3, 19: 1})"
      ]
     },
     "execution_count": 16,
     "metadata": {},
     "output_type": "execute_result"
    }
   ],
   "source": [
    "# Number of chains (proteins in target)\n",
    "path = os.path.join('download', 'BindingDB_All_2015m3.tsv.gz')\n",
    "bindingdb_generator = read_bindingdb(path)\n",
    "collections.Counter(int(row[chains_key]) for row in bindingdb_generator)"
   ]
  },
  {
   "cell_type": "code",
   "execution_count": 25,
   "metadata": {
    "collapsed": false
   },
   "outputs": [
    {
     "data": {
      "text/plain": [
       "Counter({True: 858321, False: 215107})"
      ]
     },
     "execution_count": 25,
     "metadata": {},
     "output_type": "execute_result"
    }
   ],
   "source": [
    "# Targets that mapped to SwissProt\n",
    "path = os.path.join('download', 'BindingDB_All_2015m3.tsv.gz')\n",
    "bindingdb_generator = read_bindingdb(path)\n",
    "\n",
    "collections.Counter(\n",
    "    bool(row['chains'][0]['UniProt (SwissProt) Primary ID of Target Chain'])\n",
    "    for row in bindingdb_generator if len(row['chains']) == 1\n",
    ")"
   ]
  },
  {
   "cell_type": "code",
   "execution_count": 26,
   "metadata": {
    "collapsed": false
   },
   "outputs": [
    {
     "data": {
      "text/plain": [
       "Counter({'Homo sapiens': 673750, 'Rattus norvegicus': 95095, 'Mus musculus': 26498, 'Bos taurus': 14064, 'Cavia porcellus': 8565, 'Sus scrofa': 4372, 'Oryctolagus cuniculus': 4262, 'Electrophorus electricus': 2784, 'Caenorhabditis elegans': 2245, 'Ovis aries': 2138, 'Equus caballus': 1720, 'Saccharomyces cerevisiae (strain ATCC 204508 / S288c)': 1383, 'Trypanosoma cruzi': 1222, 'Toxoplasma gondii': 1205, 'Plasmodium falciparum (isolate K1 / Thailand)': 966, 'Bacillus anthracis': 916, 'Pneumocystis carinii': 889, 'Gallus gallus': 875, 'Plasmodium falciparum': 819, 'Agaricus bisporus': 813, 'Plasmodium falciparum (isolate FcB1 / Columbia)': 726, 'Lactobacillus casei': 701, 'Human herpesvirus 1 (strain 17)': 680, 'Escherichia coli': 675, 'Staphylococcus aureus': 616, 'Torpedo californica': 574, 'Candida albicans': 491, None: 474, 'Clostridium botulinum': 427, 'Human cytomegalovirus (strain AD169)': 375, 'Cryptosporidium parvum': 355, 'Canis familiaris': 312, 'Enterobacter cloacae': 307, 'Human immunodeficiency virus type 1 group M subtype B (isolate HXB2)': 301, 'Macaca fascicularis': 271, 'Influenza B virus (strain B/Lee/1940)': 224, 'Influenza A virus (strain A/Puerto Rico/8/1934 H1N1)': 208, 'Carica papaya': 201, 'Canavalia ensiformis': 194, 'Clostridium botulinum (strain Hall / ATCC 3502 / NCTC 13319 / Type A)': 179, 'Arabidopsis thaliana': 172, 'Glycine max': 171, 'Human herpesvirus 1 (strain SC16)': 168, 'Leuconostoc mesenteroides': 168, 'Human immunodeficiency virus type 1 group M subtype B (isolate YU-2)': 166, 'West Nile virus': 158, 'Lymnaea stagnalis': 154, 'Bacillus thermoproteolyticus': 134, 'Trypanosoma brucei brucei': 131, 'Drosophila melanogaster': 130, 'Clostridium perfringens': 124, 'Leishmania major': 118, 'Neisseria gonorrhoeae': 103, 'Macaca mulatta': 100, 'Plasmodium falciparum (isolate 3D7)': 100, 'Meleagris gallopavo': 98, 'Photinus pyralis': 96, 'Thermus aquaticus': 95, 'Vibrio fischeri': 83, 'Abelson murine leukemia virus': 80, 'Methanosarcina thermophila': 79, 'Enterobacteria phage T4': 77, 'Photuris pennsylvanica': 76, 'Mesocricetus auratus': 74, 'Staphylococcus aureus (strain MRSA252)': 74, 'Ricinus communis': 71, 'Canis lupus dingo': 70, 'Human herpesvirus 6A (strain Uganda-1102)': 69, 'Varicella-zoster virus (strain Dumas)': 66, 'Human SARS coronavirus': 63, 'Vibrio harveyi': 60, 'Stenotrophomonas maltophilia': 58, 'Human papillomavirus type 11': 54, 'Human herpesvirus 1': 51, 'Bacillus cereus': 51, 'Crithidia fasciculata': 50, 'Zea mays': 46, 'Staphylococcus aureus (strain Mu50 / ATCC 700699)': 46, 'Leishmania mexicana': 46, 'Human herpesvirus 2 (strain HG52)': 45, 'Alcaligenes sp. (strain DSM 11172)': 44, 'Human papillomavirus type 16': 42, 'Staphylococcus aureus (strain MW2)': 42, 'Rhizobium radiobacter': 41, 'Caldocellum saccharolyticum': 41, 'Vibrio proteolyticus': 40, 'Carassius auratus': 39, 'Streptococcus pyogenes serotype M1': 38, 'Pseudomonas putida': 37, 'Bacillus lentus': 36, 'Human immunodeficiency virus type 1 group M subtype B (isolate PCV12)': 36, 'Spiroplasma sp. (strain MQ-1)': 36, 'Serratia marcescens': 36, 'Klebsiella pneumoniae': 35, 'Danio rerio': 35, 'Hepatitis C virus genotype 3a (isolate NZL1)': 35, 'Hepatitis C virus genotype 1b (isolate Con1)': 34, 'Yersinia pestis': 34, 'Aedes aegypti': 34, 'Apis mellifera': 33, 'Vibrio fischeri (strain ATCC 700601 / ES114)': 32, 'Actinomadura sp. (strain R39)': 32, 'Streptococcus pneumoniae': 31, 'Human T-cell leukemia virus 1 (strain Japan ATK-1 subtype A)': 31, 'Epstein-Barr virus (strain B95-8)': 30, 'Vaccinia virus (strain Western Reserve)': 28, 'Influenza A virus (strain A/Brevig Mission/1/1918 H1N1)': 27, 'Bacillus licheniformis': 26, 'Bombyx mori': 25, 'Lucilia cuprina': 24, 'Xenopus laevis': 24, 'Streptococcus pyogenes': 24, 'Coffea arabica': 23, 'Bacillus subtilis': 23, 'Woolly monkey sarcoma virus': 22, 'Luciola lateralis': 22, 'Yersinia enterocolitica': 21, 'Poliovirus type 1 (strain Mahoney)': 20, 'Aspergillus niger': 20, 'Saccharomyces cerevisiae': 17, 'Oryza sativa subsp. japonica': 16, 'Phaseolus vulgaris': 16, 'Avian erythroblastosis virus (strain ES4)': 15, 'Bison bison': 15, 'Influenza A virus (strain A/Tokyo/3/1967 H2N2)': 14, 'Enterococcus faecium': 14, 'Aeromonas hydrophila': 14, 'Pichia angusta': 14, 'Thermus thermophilus': 13, 'Musca domestica': 13, 'Legionella pneumophila': 13, 'Brassica oleracea var. capitata': 12, 'Mycobacterium tuberculosis': 12, 'Enterobacteria phage lambda': 11, 'Mycoplana ramosa': 11, 'Rhizopus chinensis': 11, 'Human immunodeficiency virus type 1 group M subtype B (isolate MN)': 10, 'Pisum sativum': 9, 'Penicillium janthinellum': 9, 'Naja mossambica': 9, 'Citrobacter freundii': 9, 'Naja naja': 9, 'Pseudomonas aeruginosa': 8, 'Echis carinatus': 8, 'Influenza A virus (strain A/Memphis/1/1971 H3N2)': 8, 'Naja melanoleuca': 8, 'Dictyostelium discoideum': 7, 'Nipah virus': 7, 'Humicola insolens': 7, 'Hordeum vulgare': 6, 'Paramecium tetraurelia': 6, 'Influenza A virus (strain A/Aichi/2/1968 H3N2)': 5, 'Human rhinovirus 16': 5, 'Torpedo marmorata': 5, 'Human papillomavirus type 1a': 5, 'Hansenula anomala': 5, 'Aspergillus aculeatus': 5, 'Lactobacillus fermentum': 4, 'Mycobacterium smegmatis': 4, 'Malus domestica': 4, 'Providencia stuartii': 4, 'Bacillus amyloliquefaciens': 4, 'Human herpesvirus 1 (strain KOS)': 4, 'Feline herpesvirus 1': 4, 'Streptomyces caespitosus': 4, 'Flavobacterium meningosepticum': 3, 'Streptococcus pneumoniae (strain ATCC BAA-255 / R6)': 3, 'Vibrio harveyi (strain ATCC BAA-1116 / BB120)': 3, 'Pseudomonas fluorescens': 3, 'Rhizobium meliloti': 2, 'Thermoanaerobacter saccharolyticum': 2, 'Rhizopus oryzae': 2, 'Influenza B virus (strain B/Memphis/3/1989)': 2, 'Cricetulus griseus': 1, 'Fujinami sarcoma virus': 1, 'Haemophilus influenzae (strain ATCC 51907 / DSM 11121 / KW20 / Rd)': 1, 'Nicotiana tabacum': 1, 'Solanum tuberosum': 1, 'Bovine viral diarrhea virus (strain CP7)': 1, 'Hepatitis C virus genotype 1b (isolate BK)': 1, 'Human immunodeficiency virus type 1 group M subtype B (isolate BRU/LAI)': 1})"
      ]
     },
     "execution_count": 26,
     "metadata": {},
     "output_type": "execute_result"
    }
   ],
   "source": [
    "# Species\n",
    "path = os.path.join('download', 'BindingDB_All_2015m3.tsv.gz')\n",
    "bindingdb_generator = read_bindingdb(path)\n",
    "\n",
    "collections.Counter(\n",
    "    row['Target Source Organism According to Curator or DataSource']\n",
    "    for row in bindingdb_generator if\n",
    "    len(row['chains']) == 1 and \n",
    "    row['chains'][0]['UniProt (SwissProt) Primary ID of Target Chain']\n",
    ")"
   ]
  },
  {
   "cell_type": "code",
   "execution_count": null,
   "metadata": {
    "collapsed": false
   },
   "outputs": [],
   "source": []
  },
  {
   "cell_type": "code",
   "execution_count": null,
   "metadata": {
    "collapsed": false
   },
   "outputs": [],
   "source": []
  },
  {
   "cell_type": "code",
   "execution_count": 13,
   "metadata": {
    "collapsed": true
   },
   "outputs": [],
   "source": []
  },
  {
   "cell_type": "code",
   "execution_count": null,
   "metadata": {
    "collapsed": true
   },
   "outputs": [],
   "source": []
  }
 ],
 "metadata": {
  "kernelspec": {
   "display_name": "Python 3",
   "language": "python",
   "name": "python3"
  },
  "language_info": {
   "codemirror_mode": {
    "name": "ipython",
    "version": 3
   },
   "file_extension": ".py",
   "mimetype": "text/x-python",
   "name": "python",
   "nbconvert_exporter": "python",
   "pygments_lexer": "ipython3",
   "version": "3.4.3"
  }
 },
 "nbformat": 4,
 "nbformat_minor": 0
}
